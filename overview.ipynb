{
 "cells": [
  {
   "cell_type": "markdown",
   "metadata": {
    "slideshow": {
     "slide_type": "slide"
    }
   },
   "source": [
    "Open in the browser the [ecoop-binder](https://github.com/epifanio/ecoop-binder) repository"
   ]
  },
  {
   "cell_type": "markdown",
   "metadata": {
    "collapsed": false,
    "scrolled": false,
    "slideshow": {
     "slide_type": "subslide"
    }
   },
   "source": [
    "![](https://raw.githubusercontent.com/epifanio/ecoop-binder/master/static/images/001.png)"
   ]
  },
  {
   "cell_type": "markdown",
   "metadata": {
    "slideshow": {
     "slide_type": "slide"
    }
   },
   "source": [
    "Run the [docker] container by clicking on the ```launch binder``` bunner"
   ]
  },
  {
   "cell_type": "markdown",
   "metadata": {
    "collapsed": false,
    "slideshow": {
     "slide_type": "subslide"
    }
   },
   "source": [
    "![](https://raw.githubusercontent.com/epifanio/ecoop-binder/master/static/images/002.png)"
   ]
  },
  {
   "cell_type": "markdown",
   "metadata": {
    "slideshow": {
     "slide_type": "slide"
    }
   },
   "source": [
    "Afer a couple of seconds iy wil show the Jupyter notebook dashboard"
   ]
  },
  {
   "cell_type": "markdown",
   "metadata": {
    "collapsed": false
   },
   "source": [
    "![](https://raw.githubusercontent.com/epifanio/ecoop-binder/master/static/images/003.png)"
   ]
  },
  {
   "cell_type": "markdown",
   "metadata": {
    "slideshow": {
     "slide_type": "slide"
    }
   },
   "source": [
    "Load the notebook \n",
    "\n",
    "```ESR_Test_executed```\n",
    "\n",
    "and once loaded run all the cells by clicking on ```Run All``` from the cell option in the toolbar "
   ]
  },
  {
   "cell_type": "markdown",
   "metadata": {
    "collapsed": false,
    "slideshow": {
     "slide_type": "subslide"
    }
   },
   "source": [
    "![](https://raw.githubusercontent.com/epifanio/ecoop-binder/master/static/images/004.png)"
   ]
  },
  {
   "cell_type": "markdown",
   "metadata": {
    "slideshow": {
     "slide_type": "subslide"
    }
   },
   "source": [
    "It will take a minute or so (it is a slow free service).\n",
    "\n",
    "It is a very simple (and drafted) notebook what it does:\n",
    "    \n",
    "* set-up some basic metadata from a dictionary\n",
    "* run code to generate the indicator of the first chapter of the ESR \n",
    "* add some text (and keep tracj of the user who will receive attribution for it)\n",
    "* build metadata pages (using gist and notebook templates)\n",
    "* compile a latex document and embed hyperlink to the metadata pages\n",
    "* make the data available (several options, not all working because of the free service limitation)\n",
    "\n",
    "Each step is annotated in the metadata, note a link at the end of the notebook as example."
   ]
  },
  {
   "cell_type": "markdown",
   "metadata": {
    "collapsed": false,
    "slideshow": {
     "slide_type": "fragment"
    }
   },
   "source": [
    "![](https://raw.githubusercontent.com/epifanio/ecoop-binder/master/static/images/005.png)"
   ]
  },
  {
   "cell_type": "markdown",
   "metadata": {
    "slideshow": {
     "slide_type": "slide"
    }
   },
   "source": [
    "Go back to the Dashboard by clicking on the Jupyter log on top left.\n",
    "The data are accessible in the directory with a suffix and a timestamp"
   ]
  },
  {
   "cell_type": "markdown",
   "metadata": {
    "collapsed": false,
    "slideshow": {
     "slide_type": "fragment"
    }
   },
   "source": [
    "![](https://raw.githubusercontent.com/epifanio/ecoop-binder/master/static/images/006.png)"
   ]
  },
  {
   "cell_type": "markdown",
   "metadata": {
    "slideshow": {
     "slide_type": "slide"
    }
   },
   "source": [
    "From that directory open the file \"test.pdf\""
   ]
  },
  {
   "cell_type": "markdown",
   "metadata": {
    "collapsed": false,
    "slideshow": {
     "slide_type": "subslide"
    }
   },
   "source": [
    "![](https://raw.githubusercontent.com/epifanio/ecoop-binder/master/static/images/007.png)"
   ]
  },
  {
   "cell_type": "markdown",
   "metadata": {
    "slideshow": {
     "slide_type": "slide"
    }
   },
   "source": [
    "From the pdf click on the ```metadata``` in one of the figure caption."
   ]
  },
  {
   "cell_type": "markdown",
   "metadata": {
    "collapsed": false,
    "slideshow": {
     "slide_type": "subslide"
    }
   },
   "source": [
    "![](https://raw.githubusercontent.com/epifanio/ecoop-binder/master/static/images/008.png)"
   ]
  },
  {
   "cell_type": "markdown",
   "metadata": {
    "collapsed": false,
    "slideshow": {
     "slide_type": "subslide"
    }
   },
   "source": [
    "![](https://raw.githubusercontent.com/epifanio/ecoop-binder/master/static/images/009.png)"
   ]
  },
  {
   "cell_type": "markdown",
   "metadata": {
    "slideshow": {
     "slide_type": "slide"
    }
   },
   "source": [
    "The hyperlink will redirect the browser to a ```gist``` which is a notebook template filled in with some metadata (note: not all the link, like:donload) will work due to the free service (donload is available as zip file in the dashboard or by uploading in the apache dir and providing link or qrcode .. etc .. )"
   ]
  }
 ],
 "metadata": {
  "kernelspec": {
   "display_name": "Python 3",
   "language": "python",
   "name": "python3"
  },
  "language_info": {
   "codemirror_mode": {
    "name": "ipython",
    "version": 3
   },
   "file_extension": ".py",
   "mimetype": "text/x-python",
   "name": "python",
   "nbconvert_exporter": "python",
   "pygments_lexer": "ipython3",
   "version": "3.3.5"
  }
 },
 "nbformat": 4,
 "nbformat_minor": 0
}
