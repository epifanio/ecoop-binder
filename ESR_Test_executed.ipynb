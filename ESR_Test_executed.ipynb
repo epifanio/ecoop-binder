{
 "cells": [
  {
   "cell_type": "markdown",
   "metadata": {},
   "source": [
    "**Load main libraries**"
   ]
  },
  {
   "cell_type": "code",
   "execution_count": null,
   "metadata": {},
   "outputs": [],
   "source": [
    "from __future__ import print_function\n",
    "from ecoop.prov import *\n",
    "from datetime import datetime as dt\n",
    "from IPython.core.display import Javascript\n",
    "\n",
    "import os\n",
    "\n",
    "import time\n",
    "from ecoop.ecooputil import shareUtil\n",
    "from ecoop.cf import cfData, cfPlot\n",
    "from ecoop.ecooprovdict import ecooProvDict\n",
    "from ecoop.printer import openDocument, closeDocument, addSection, addSubSection, addFigure\n",
    "from ecoop.splashtemplate import makeSplash\n",
    "from ecoop.splashdict import splash\n",
    "from ecoop.epimagic import *"
   ]
  },
  {
   "cell_type": "code",
   "execution_count": null,
   "metadata": {},
   "outputs": [],
   "source": [
    "try :\n",
    "    from os import environ\n",
    "    ecoop_username = environ['ecoop_username']\n",
    "except :\n",
    "    print(\"no username provided\")\n",
    "    ecoop_username = \"anonymous\"\n",
    "# note : \n",
    "# when no username is provided we can still assign the username to the current unix user with :\n",
    "# import getpass\n",
    "# ecoop_username = getpass.getuser()"
   ]
  },
  {
   "cell_type": "code",
   "execution_count": null,
   "metadata": {},
   "outputs": [],
   "source": [
    "%matplotlib inline\n",
    "util = shareUtil()\n",
    "cfd = cfData()\n",
    "cfp = cfPlot()"
   ]
  },
  {
   "cell_type": "markdown",
   "metadata": {},
   "source": [
    "**Initializate the notebook metadata** \n",
    "\n",
    "* It adds the key ```ecoop_prov``` in the main metadata and start a dictionary where to append metadata in json-ld format"
   ]
  },
  {
   "cell_type": "code",
   "execution_count": null,
   "metadata": {},
   "outputs": [],
   "source": [
    "prov = initProv()"
   ]
  },
  {
   "cell_type": "code",
   "execution_count": null,
   "metadata": {},
   "outputs": [],
   "source": [
    "prov['http://www.w3.org/ns/prov#startedAtTime'] = provStartedAtTime(dt.utcnow().toordinal())"
   ]
  },
  {
   "cell_type": "markdown",
   "metadata": {},
   "source": [
    "# Document"
   ]
  },
  {
   "cell_type": "code",
   "execution_count": null,
   "metadata": {},
   "outputs": [],
   "source": [
    "ID = util.get_id('Climate-forcing_pdf')\n",
    "document = openDocument()"
   ]
  },
  {
   "cell_type": "markdown",
   "metadata": {},
   "source": [
    "## Section 1"
   ]
  },
  {
   "cell_type": "code",
   "execution_count": null,
   "metadata": {},
   "outputs": [],
   "source": [
    "%%writefileref {ID}/climate_forcing.txt {ecoop_username}\n",
    "Climate patterns over the North Atlantic are important drivers of oceanographic conditions and ecosystem states. \n",
    "Steadily increasing atmospheric carbon dioxide levels can not only affect climate on global and regional scales \n",
    "but alter critical aspects of ocean chemistry. Here, we describe the atmospheric forcing mechanisms related \n",
    "to climate in this region including large-scale atmospheric pressure systems, natural ocean temperature cycles in the North Atlantic, \n",
    "components of the large-scale circulation of the Atlantic Ocean, and issues related to ocean acidification."
   ]
  },
  {
   "cell_type": "code",
   "execution_count": null,
   "metadata": {},
   "outputs": [],
   "source": [
    "section = addSection(name='Climate Forcing', data=os.path.join(ID,'climate_forcing.txt'))"
   ]
  },
  {
   "cell_type": "markdown",
   "metadata": {},
   "source": [
    "### Sub Section 1"
   ]
  },
  {
   "cell_type": "code",
   "execution_count": null,
   "metadata": {},
   "outputs": [],
   "source": [
    "%%writefileref {ID}/nao.txt {ecoop_username}\n",
    "Climate and weather over the North Atlantic are strongly influenced by the relative strengths \n",
    "of two large-scale atmospheric pressure cells -- the Icelandic Low and the Azores High [4]. \n",
    "As the relative strengths of these two pressure systems vary, characteristic patterns of temperature, precipitation, and wind fields are observed. \n",
    "An index of this dipole pattern has been developed based on the standardized difference in sea level pressure between Lisbon, Portugal and Reykjavík, \n",
    "Iceland in the winter (December-February; see Glossary for a description of methods used to create standardized indicators). \n",
    "This North Atlantic Oscillation (NAO) index has been related to key oceanographic and ecological processes in the North Atlantic basin [5].  \n",
    "When the NAO index is high (positive NAO state), the westerly winds shift northward and increase in strength. \n",
    "Additionally, there is an increase in precipitation over southeastern Canada, the eastern seaboard of the United States, \n",
    "and northwestern Europe. Water temperatures are cool off Labrador and northern Newfoundland, influencing the formation of Deep Labrador Slope water, \n",
    "but warm off the United States. \n",
    "Conversely, when the NAO index is low (negative NAO state), there is a southward shift and decrease in westerly winds, decreased storminess, \n",
    "and drier conditions over southeastern Canada, the eastern United States, and northwestern Europe. \n",
    "Water temperatures are warmer off Labrador and Newfoundland, but cooler off the eastern United States. \n",
    "Since 1972, the NAO has primarily been in a positive state (Figure 1), although notable short-term reversals to a negative state have been observed during this period. \n",
    "Changes in the NAO have been linked to changes in plankton community composition in the North Atlantic, reflecting changes in both the distribution \n",
    "and abundance of warm and cold-temperate species."
   ]
  },
  {
   "cell_type": "code",
   "execution_count": null,
   "metadata": {},
   "outputs": [],
   "source": [
    "naodata = cfd.nao_get(save=ID, csvout=\"nao.csv\", prov=True)"
   ]
  },
  {
   "cell_type": "code",
   "execution_count": null,
   "metadata": {},
   "outputs": [],
   "source": [
    "# NAO\n",
    "naodata = cfd.nao_get(save=ID, csvout=\"nao.csv\")\n",
    "cfp.plot_index(name='NAO_lowess', xticks=10, xticks_fontsize=10, \n",
    "               data=naodata, nb='y', scategory='lowess', frac=1./6, it=6, \n",
    "               output=ID, dateformat=True, figsave=\"nao.png\", prov=True)"
   ]
  },
  {
   "cell_type": "code",
   "execution_count": null,
   "metadata": {},
   "outputs": [],
   "source": [
    "time.sleep(1)\n",
    "nb_name = 'ESR_Test_executed.ipynb'\n",
    "util.save_notebook(ID, nb_name)\n",
    "time.sleep(1)\n",
    "\n",
    "!rm -rf splash_nao.ipynb\n",
    "\n",
    "nao_datafile = os.path.join(ID,'nao.csv')\n",
    "naodatalink = util.gistit(filename=nao_datafile, jist='/usr/local/bin/gist', type='text')\n",
    "nbviewerlink = util.gistit(filename=nb_name, jist='/usr/local/bin/gist', type='notebook')\n",
    "\n",
    "splash['NAO']['nbviewer'] = nbviewerlink\n",
    "splash['NAO']['repository'] = 'https://github.com/epifanio/ecoop'\n",
    "splash['NAO']['download'] = 'http://epinux.com/%s' % ID\n",
    "\n",
    "f = open('splash_nao.ipynb', 'w')\n",
    "f.write(makeSplash(splash, 'NAO'))\n",
    "f.close()\n",
    "naosplashlink = util.gistit(filename='splash_nao.ipynb', jist='/usr/local/bin/gist', type='notebook')\n",
    "\n",
    "naofig = addFigure(img=os.path.join(ID,'nao.png'), name='North Atlantic Oscillation', metadata=naosplashlink)"
   ]
  },
  {
   "cell_type": "code",
   "execution_count": null,
   "metadata": {},
   "outputs": [],
   "source": [
    "naosubsection = addSubSection(name='North Atlantic Oscillation Index', data=os.path.join(ID,'nao.txt'), fig=naofig)"
   ]
  },
  {
   "cell_type": "markdown",
   "metadata": {},
   "source": [
    "### Sub Section 2"
   ]
  },
  {
   "cell_type": "code",
   "execution_count": null,
   "metadata": {},
   "outputs": [],
   "source": [
    "%%writefileref {ID}/amo.txt {ecoop_username}\n",
    "Multidecadal patterns in sea surface temperature (SST) in the North Atlantic are represented by the Atlantic Multidecadal Oscillation (AMO) index. \n",
    "The AMO signal is based on spatial patterns in SST variability after removing the effects of anthropogenic forcing on temperature, \n",
    "revealing natural long term cycles in SST.\n",
    "The AMO is characterized by warm and cool phases [6] with periods of approximately 20-40 years. \n",
    "The AMO index is related to air temperatures and rainfall over North America and Europe and is associated \n",
    "with changes in the frequency of droughts in North America and the frequency of severe hurricane events. \n",
    "The AMO is thought to be related to the North Atlantic branch of the deep thermohaline circulation \n",
    "(for more see The Gulf Stream below) which is in turn directly related to dynamics of the Gulf Stream.\n",
    "The AMO index shows a relatively cool period starting in the early 1960s, extending through the mid 1990s. \n",
    "Since 1997, the AMO has been in a warm phase (Figure 2). \n",
    "If past patterns continue to hold, the warm phase will potentially continue for the next several decades."
   ]
  },
  {
   "cell_type": "code",
   "execution_count": null,
   "metadata": {},
   "outputs": [],
   "source": [
    "# AMO\n",
    "amodata = cfd.amo_get(url='http://www.esrl.noaa.gov/psd/data/correlation/amon.us.long.data', save=ID, csvout=\"amo.csv\")\n",
    "cfp.plot_index(name='AMO_lowess', xticks=10, xticks_fontsize=10, \n",
    "               data=amodata, nb='y', scategory='lowess', frac=1./6, it=6, \n",
    "               output=ID, dateformat=True, figsave=\"amo.png\", prov=True)"
   ]
  },
  {
   "cell_type": "code",
   "execution_count": null,
   "metadata": {},
   "outputs": [],
   "source": [
    "time.sleep(1)\n",
    "nb_name = 'ESR_Test_executed.ipynb'\n",
    "util.save_notebook(ID, nb_name)\n",
    "time.sleep(1)\n",
    "\n",
    "amo_datafile = os.path.join(ID,'amo.csv')\n",
    "amodatalink = util.gistit(filename=amo_datafile, jist='/usr/local/bin/gist', type='text')\n",
    "nbviewerlink2 = util.gistit(filename=nb_name, jist='/usr/local/bin/gist', type='notebook')\n",
    "\n",
    "splash['AMO']['nbviewer'] = nbviewerlink2\n",
    "splash['AMO']['repository'] = 'https://github.com/epifanio/ecoop'\n",
    "splash['AMO']['download'] = 'http://epinux.com/%s' % ID\n",
    "\n",
    "f = open('splash_amo.ipynb', 'w')\n",
    "f.write(makeSplash(splash, 'AMO'))\n",
    "f.close()\n",
    "amosplashlink = util.gistit(filename='splash_amo.ipynb', jist='/usr/local/bin/gist', type='notebook')\n",
    "\n",
    "amofig = addFigure(img=os.path.join(ID,'amo.png'), name='Atlantic Multidecadal Oscillation', metadata=amosplashlink)"
   ]
  },
  {
   "cell_type": "code",
   "execution_count": null,
   "metadata": {},
   "outputs": [],
   "source": [
    "amosubsection = addSubSection(name='Atlantic Multidecadal Oscillation', data=os.path.join(ID,'amo.txt'), fig=amofig)"
   ]
  },
  {
   "cell_type": "markdown",
   "metadata": {},
   "source": [
    "# Write Document"
   ]
  },
  {
   "cell_type": "code",
   "execution_count": null,
   "metadata": {},
   "outputs": [],
   "source": [
    "closedDocument = closeDocument()"
   ]
  },
  {
   "cell_type": "code",
   "execution_count": null,
   "metadata": {},
   "outputs": [],
   "source": [
    "texfile=''\n",
    "texfile += document\n",
    "texfile += section\n",
    "texfile += naosubsection\n",
    "texfile += amosubsection\n",
    "texfile += closedDocument"
   ]
  },
  {
   "cell_type": "code",
   "execution_count": null,
   "metadata": {},
   "outputs": [],
   "source": [
    "#print(texfile)"
   ]
  },
  {
   "cell_type": "code",
   "execution_count": null,
   "metadata": {},
   "outputs": [],
   "source": [
    "pdf = os.path.join(ID,'test.tex')\n",
    "f = open(pdf,'w')\n",
    "f.write(texfile)\n",
    "f.close()"
   ]
  },
  {
   "cell_type": "code",
   "execution_count": null,
   "metadata": {},
   "outputs": [],
   "source": [
    "!pdflatex -output-directory={ID} {pdf}"
   ]
  },
  {
   "cell_type": "markdown",
   "metadata": {},
   "source": [
    "PDF available in the ```jupyter dashboard ```  [HOME](../) in the directory with the specified **ID**"
   ]
  },
  {
   "cell_type": "markdown",
   "metadata": {},
   "source": [
    "or via QR code :"
   ]
  },
  {
   "cell_type": "code",
   "execution_count": null,
   "metadata": {},
   "outputs": [],
   "source": [
    "from IPython.core.display import Image\n",
    "!rm -rf pdf.png\n",
    "import qrcode\n",
    "img = qrcode.make(\"../files/{ID}/test.pdf\")\n",
    "img.save(\"pdf.png\")\n",
    "Image('pdf.png')"
   ]
  },
  {
   "cell_type": "markdown",
   "metadata": {},
   "source": [
    "**Note: above is an example - link in qrcode doesn't download the pdf**"
   ]
  },
  {
   "cell_type": "markdown",
   "metadata": {},
   "source": [
    "** or Upload to SFTP:**\n",
    "\n",
    "```\n",
    "from secret import username, password, hostname, port\n",
    "inputfile = ID\n",
    "outputfile = '/var/www/shared/%s.zip' % ID\n",
    "util.uploadfile(username=username, \n",
    "                password=password, \n",
    "                hostname=hostname, \n",
    "                port=port, \n",
    "                inputfile=inputfile,\n",
    "                outputfile=outputfile, \n",
    "                zip=True, link=True, qr=True, apacheroot='/var/www/')\n",
    "```"
   ]
  },
  {
   "cell_type": "markdown",
   "metadata": {},
   "source": [
    "Add ```date, time, and, User Info``` into the:\n",
    "\n",
    "**```ecoop_prov```** \n",
    "\n",
    "notebooks metadata:"
   ]
  },
  {
   "cell_type": "code",
   "execution_count": null,
   "metadata": {},
   "outputs": [],
   "source": [
    "prov['http://www.w3.org/ns/prov#endedAtTime'] = provStartedAtTime(dt.utcnow().toordinal())"
   ]
  },
  {
   "cell_type": "code",
   "execution_count": null,
   "metadata": {},
   "outputs": [],
   "source": [
    "prov[\"http://www.w3.org/ns/prov#wasAssociatedWith\"] = provWasAssociatedWith(\"massimo patrick\")"
   ]
  },
  {
   "cell_type": "code",
   "execution_count": null,
   "metadata": {},
   "outputs": [],
   "source": [
    "prov[\"http://www.w3.org/ns/prov#used\"] = provWasAssociatedWith(\"ecoop_software ipython_software\")"
   ]
  },
  {
   "cell_type": "code",
   "execution_count": null,
   "metadata": {},
   "outputs": [],
   "source": [
    "prov"
   ]
  },
  {
   "cell_type": "markdown",
   "metadata": {},
   "source": [
    "**Embed the ```prov``` dictionary in the notebook metadata**"
   ]
  },
  {
   "cell_type": "code",
   "execution_count": null,
   "metadata": {},
   "outputs": [],
   "source": [
    "Javascript(\"IPython.notebook.metadata['ecoop_prov'] = %s\" % prov)"
   ]
  },
  {
   "cell_type": "markdown",
   "metadata": {},
   "source": [
    "**Save and export the output**"
   ]
  },
  {
   "cell_type": "code",
   "execution_count": null,
   "metadata": {},
   "outputs": [],
   "source": [
    "import time\n",
    "time.sleep(1)\n",
    "util.save_notebook(ID, nb_name)\n",
    "time.sleep(2)"
   ]
  },
  {
   "cell_type": "code",
   "execution_count": null,
   "metadata": {},
   "outputs": [],
   "source": [
    "output = ID+'.zip'\n",
    "util.zipdir(ID, output)"
   ]
  },
  {
   "cell_type": "markdown",
   "metadata": {},
   "source": [
    "**The full output is available in the notebook dashboard home as zip file** [home](../)"
   ]
  },
  {
   "cell_type": "markdown",
   "metadata": {},
   "source": [
    "---\n",
    "\n",
    "Note on INSTALLATION:\n",
    "\n",
    "* Download and install the ecoop code and its dependencies\n",
    "    \n",
    "    ```\n",
    "    git clone https://github.com/epifanio/ecoop-1\n",
    "    cd ecoop-1/pyecoop\n",
    "    pip install -r requirement.txt\n",
    "    python setup.py install\n",
    "    ```\n",
    "\n",
    "*  pdflatex<br>\n",
    "\n",
    "    ```\n",
    "    apt-get install texlive texlive-latex-extra      \n",
    "    ```\n",
    "      \n",
    "* gist utility:\n",
    "\n",
    "    ```\n",
    "    apt-get install rubygems\n",
    "    gem install gist\n",
    "    ```"
   ]
  },
  {
   "cell_type": "markdown",
   "metadata": {},
   "source": [
    "---\n",
    "\n",
    "[Example metadata embedded in the cell output](https://gist.github.com/anonymous/a957086bd1fa8ad14f02#file-a-rb-L470-L640)\n",
    "    \n",
    "   "
   ]
  }
 ],
 "metadata": {
  "kernelspec": {
   "display_name": "Python 2",
   "language": "python",
   "name": "python2"
  },
  "language_info": {
   "codemirror_mode": {
    "name": "ipython",
    "version": 2.0
   },
   "file_extension": ".py",
   "mimetype": "text/x-python",
   "name": "python",
   "nbconvert_exporter": "python",
   "pygments_lexer": "ipython2",
   "version": "2.7.10"
  },
  "latex_envs": {
   "bibliofile": "biblio.bib",
   "cite_by": "apalike",
   "current_citInitial": 1.0,
   "eqLabelWithNumbers": true,
   "eqNumInitial": 0.0
  }
 },
 "nbformat": 4,
 "nbformat_minor": 0
}